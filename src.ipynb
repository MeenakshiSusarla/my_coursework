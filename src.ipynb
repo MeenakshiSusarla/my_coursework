{
 "cells": [
  {
   "cell_type": "markdown",
   "metadata": {},
   "source": [
    "# To develop a DNA identification service:\n",
    "\n",
    "The query sequence can be run against the fasta sequences, dog_breeds.fa preprocessed from GEO database, \n",
    "which is a public functional genomics data repository to identify closest breed. "
   ]
  },
  {
   "cell_type": "markdown",
   "metadata": {},
   "source": [
    "#Different ways of identifying closest breed:\n",
    "\n",
    "Method 1: Using PairwiseAligner from Bio.Align package."
   ]
  },
  {
   "cell_type": "code",
   "execution_count": 4,
   "metadata": {},
   "outputs": [],
   "source": [
    "from Bio import SeqIO\n",
    "from Bio.Seq import Seq\n",
    "from Bio.Align import PairwiseAligner\n",
    "\n",
    "def identify_closest_breed(database_file, query_file):\n",
    "    \"\"\"\n",
    "        Question 1\n",
    "        The function returns closest breed to the query sequence and the distance.\n",
    "        \n",
    "        Example use: identify_closest_breed('dog_breeds.fa', 'mystery.fa')\n",
    "        Example output: ('gb|AY656744.1|', 24.0)\n",
    "    \"\"\"\n",
    "    # Read the database file into a list of SeqRecord objects\n",
    "    database_seqs = list(SeqIO.parse('../my_coursework/dog_breeds.fa', 'fasta'))\n",
    "    \n",
    "    # Read the query file and get its sequence as a Seq object\n",
    "    query_seq = SeqIO.read('../my_coursework/mystery.fa', 'fasta').seq\n",
    "    for record in query_seq:\n",
    "    \n",
    "    # Initialize variables to keep track of the closest breed and its edit distance\n",
    "        closest_breed = None\n",
    "        closest_distance = float('inf')\n",
    "    \n",
    "    # Create a PairwiseAligner object with the xalign function and match score of 1\n",
    "    aligner = PairwiseAligner()\n",
    "    aligner.mode = 'global'\n",
    "    aligner.match_score = 1\n",
    "    \n",
    "    # Loop through each sequence in the database and calculate its edit distance to the query sequence\n",
    "    for database_seq in database_seqs:\n",
    "        alignment = aligner.align(database_seq.seq, query_seq)\n",
    "        distance = len(query_seq) - alignment.score\n",
    "        if distance < closest_distance:\n",
    "            closest_breed = database_seq.id\n",
    "            closest_distance = distance\n",
    "    \n",
    "    # Return the closest breed\n",
    "    return closest_breed, closest_distance\n",
    "#closest_breed = identify_closest_breed('dog_breeds.fa', 'mystery.fa')\n",
    "#print(database_seq)"
   ]
  },
  {
   "cell_type": "code",
   "execution_count": 5,
   "metadata": {},
   "outputs": [
    {
     "data": {
      "text/plain": [
       "('gb|AY656744.1|', 24.0)"
      ]
     },
     "execution_count": 5,
     "metadata": {},
     "output_type": "execute_result"
    }
   ],
   "source": [
    "identify_closest_breed('../my_coursework/dog_breeds.fa', '../my_coursework/mystery.fa')"
   ]
  },
  {
   "cell_type": "markdown",
   "metadata": {},
   "source": [
    "# Method 2:\n",
    "Running Multiple sequence alignment using MEGA11 software. The alignment output is saved as a fasta format text file, \n",
    "that is used for calculating the differences among the sequences. \n",
    "(the code is taking more time to give the output, so the output file is provided)"
   ]
  },
  {
   "cell_type": "code",
   "execution_count": null,
   "metadata": {},
   "outputs": [],
   "source": []
  },
  {
   "cell_type": "markdown",
   "metadata": {},
   "source": [
    "#Calculating the difference after Sequence alignment."
   ]
  },
  {
   "cell_type": "code",
   "execution_count": null,
   "metadata": {},
   "outputs": [],
   "source": [
    "from Bio import AlignIO\n",
    "from Bio.Align import PairwiseAligner\n",
    "\n",
    "def closest_breed(aligned_file):\n",
    "    # Read in the aligned file\n",
    "    alignment = AlignIO.read(\"../my_coursework/aligned1.fas\", \"fasta\")\n",
    "\n",
    "    # Create a PairwiseAligner object\n",
    "    aligner = PairwiseAligner()\n",
    "\n",
    "    # Set the aligner parameters\n",
    "    aligner.mode = 'global'\n",
    "    aligner.match_score = 1\n",
    "    aligner.mismatch_score = 0\n",
    "\n",
    "    # Open the output file for writing\n",
    "    with open(\"output.txt\", \"w\") as f:\n",
    "        # Iterate over pairs of sequences\n",
    "        for i in range(len(alignment)):\n",
    "            for j in range(i + 1, len(alignment)):\n",
    "                seq1 = alignment[i].seq\n",
    "                seq2 = alignment[j].seq\n",
    "\n",
    "                # Perform a pairwise sequence alignment\n",
    "                alignments = aligner.align(seq1, seq2)\n",
    "\n",
    "                # Count the number of differences\n",
    "                num_diffs = 0\n",
    "                for k in range(len(seq1)):\n",
    "                    if seq1[k] != seq2[k]:\n",
    "                        num_diffs += 1\n",
    "\n",
    "                # Write the results to the output file\n",
    "                f.write(\"Alignment between \" + alignment[i].id + \" and \" + alignment[j].id + \"\\n\")\n",
    "                f.write(str(alignments[0]) + \"\\n\")\n",
    "                f.write(\"Number of differences: \" + str(num_diffs) + \"\\n\")\n",
    "                f.write(\"\\n\")"
   ]
  },
  {
   "cell_type": "code",
   "execution_count": null,
   "metadata": {},
   "outputs": [],
   "source": [
    "closest_breed('../my_coursework/aligned1.fas')"
   ]
  },
  {
   "cell_type": "code",
   "execution_count": null,
   "metadata": {},
   "outputs": [],
   "source": []
  },
  {
   "cell_type": "markdown",
   "metadata": {},
   "source": [
    "# Stretch goal 1:\n",
    "\n",
    "Probabilities across the database:"
   ]
  },
  {
   "cell_type": "code",
   "execution_count": 11,
   "metadata": {},
   "outputs": [],
   "source": [
    "import scipy.stats\n",
    "import matplotlib.pyplot as plt\n",
    "from scipy.stats import shapiro\n",
    "\n",
    "def calculate_pvalue(alignment_file):\n",
    "    \n",
    "    with open(\"../my_coursework/aligned1.fas\", 'r') as f:\n",
    "        lens = [len(l) for l in f]\n",
    "        shapiro(lens)\n",
    "        \n",
    "        N = 500\n",
    "    x = scipy.stats.laplace.rvs(size=N)\n",
    "    print(shapiro(x))\n",
    "    fig, ax = plt.subplots()\n",
    "    ax.hist(x)\n",
    "    plt.show()"
   ]
  },
  {
   "cell_type": "code",
   "execution_count": 12,
   "metadata": {},
   "outputs": [
    {
     "name": "stdout",
     "output_type": "stream",
     "text": [
      "ShapiroResult(statistic=0.9710763096809387, pvalue=2.2605620486615408e-08)\n"
     ]
    },
    {
     "name": "stderr",
     "output_type": "stream",
     "text": [
      "/l_mnt/python/envs/teaching/lib/python3.8/site-packages/scipy/stats/_morestats.py:1816: UserWarning: p-value may not be accurate for N > 5000.\n",
      "  warnings.warn(\"p-value may not be accurate for N > 5000.\")\n"
     ]
    },
    {
     "data": {
      "image/png": "[encoded data removed]",
      "text/plain": [
       "<Figure size 640x480 with 1 Axes>"
      ]
     },
     "metadata": {},
     "output_type": "display_data"
    }
   ],
   "source": [
    "calculate_pvalue('../my_coursework/aligned1.fas')"
   ]
  },
  {
   "cell_type": "markdown",
   "metadata": {},
   "source": [
    "# Stretch goal 2:\n",
    "Reconstructed phylogeny"
   ]
  },
  {
   "cell_type": "code",
   "execution_count": 13,
   "metadata": {},
   "outputs": [],
   "source": [
    "from Bio import AlignIO, Phylo\n",
    "from Bio.Phylo.TreeConstruction import DistanceCalculator, DistanceTreeConstructor\n",
    "from Bio.Align.Applications import MuscleCommandline\n",
    "\n",
    "def phylo_tree(alignment_file):\n",
    "    # Load the sequence alignment file\n",
    "    alignment_file = \"../my_coursework/aligned1.fas\"\n",
    "    alignment = AlignIO.read(alignment_file, \"fasta\")\n",
    "\n",
    "    # Compute the distance matrix using Kimura's two-parameter model\n",
    "    calculator = DistanceCalculator(\"identity\")\n",
    "    dm = calculator.get_distance(alignment)\n",
    "\n",
    "    # Construct the tree using the neighbor-joining method\n",
    "    constructor = DistanceTreeConstructor(calculator, \"nj\")\n",
    "    tree = constructor.build_tree(alignment)\n",
    "\n",
    "    # Visualize the tree using Phylo\n",
    "    Phylo.draw_ascii(tree)"
   ]
  },
  {
   "cell_type": "code",
   "execution_count": 14,
   "metadata": {},
   "outputs": [
    {
     "name": "stdout",
     "output_type": "stream",
     "text": [
      "  __ gb|KU290735.1|_location=mitochondrion...\n",
      " |\n",
      " |_ gb|KU290781.1|_location=mitochondrion...\n",
      " |\n",
      " |  , gb|KU290591.1|_location=mitochondrion...\n",
      " | _|\n",
      " || , gb|KU290649.1|_location=mitochondrion...\n",
      " ,| |\n",
      " || | gb|KU290670.1|_location=mitochondrion...\n",
      " ||\n",
      " || gb|KU290567.1|_location=mitochondrion...\n",
      " |\n",
      " , gb|KU290986.1|_location=mitochondrion...\n",
      " |\n",
      " |, gb|KU290702.1|_location=mitochondrion...\n",
      " ||\n",
      " || gb|KU291013.1|_location=mitochondrion...\n",
      " |\n",
      " |__ gb|KU290984.1|_location=mitochondrion...\n",
      " |\n",
      " |__ gb|KU290640.1|_location=mitochondrion...\n",
      " |\n",
      " | gb|KU290417.1|_location=mitochondrion...\n",
      " |\n",
      " | ___ gb|KU290694.1|_location=mitochondrion...\n",
      " ||\n",
      " || _ gb|KU290632.1|_location=mitochondrion...\n",
      " |||\n",
      " |||_ gb|KU290506.1|_location=mitochondrion...\n",
      " |||\n",
      " |||_ gb|KU290529.1|_location=mitochondrion...\n",
      " |||\n",
      " ||| gb|KU290531.1|_location=mitochondrion...\n",
      " |||\n",
      " ||| gb|KU290726.1|_location=mitochondrion...\n",
      " ||\n",
      " ||   , gb|KU290594.1|_location=mitochondrion...\n",
      " ,|  _|\n",
      " ||,| | gb|KU290786.1|_location=mitochondrion...\n",
      " ||||\n",
      " ||||_ gb|KU291073.1|_location=mitochondrion...\n",
      " |||\n",
      " |,| __ gb|KU290971.1|_location=mitochondrion...\n",
      " ||,|\n",
      " |||, gb|KU290900.1|_location=mitochondrion...\n",
      " ||||\n",
      " |||| gb|KU290537.1|_location=mitochondrion...\n",
      " |||\n",
      " ||, gb|KU290667.1|_location=mitochondrion...\n",
      " |||\n",
      " ||, gb|KU290634.1|_location=mitochondrion...\n",
      " |||\n",
      " ||| gb|KU290919.1|_location=mitochondrion...\n",
      " ||\n",
      " ||___ gb|KU291092.1|_location=mitochondrion...\n",
      " ||\n",
      " ||  _ gb|KU290615.1|_location=mitochondrion...\n",
      " ||_|\n",
      " || | gb|KU290585.1|_location=mitochondrion...\n",
      " ||\n",
      " || gb|KU290775.1|_location=mitochondrion...\n",
      " |\n",
      " |   __ gb|MW916027.1|_location=mitochondrion...\n",
      " |  |\n",
      " |  | _ gb|MW916074.1|_location=mitochondrion...\n",
      " |  ||\n",
      " |  || gb|MW916026.1|_location=mitochondrion...\n",
      " |  ||\n",
      " |  ||, gb|MW916063.1|_location=mitochondrion...\n",
      " |  |||\n",
      " |  ||, gb|MW916059.1|_location=mitochondrion...\n",
      " | ,|||\n",
      " | |||, gb|MW916061.1|_location=mitochondrion...\n",
      " | ||||\n",
      " | |||, gb|MW916067.1|_location=mitochondrion...\n",
      " | |,||\n",
      " | |||, gb|MW916068.1|_location=mitochondrion...\n",
      " | ||||\n",
      " | |||, gb|MW916069.1|_location=mitochondrion...\n",
      " | ||||\n",
      " | |||, gb|MW916070.1|_location=mitochondrion...\n",
      " | ||||\n",
      " | |||| gb|MW916071.1|_location=mitochondrion...\n",
      " | |||\n",
      " | ||| gb|MW916039.1|_location=mitochondrion...\n",
      " | ||\n",
      " | ||   _____ gb|MH105046.1|_location=mitochondrion...\n",
      " | ||__|\n",
      " | |   |   _________ gb|DQ480496.1|_location=mitochondrion...\n",
      " | |   |__|\n",
      " | |      |   _______ gb|AY656744.1|_location=mitochondrion...\n",
      " | |      |__|\n",
      " |,|         |__________ gb|KM061522.1|_location=mitochondrion...\n",
      " |||\n",
      " |||  ______ gb|MW916017.1|_location=mitochondrion...\n",
      " ||| |\n",
      " ||| |       _ gb|KU290610.1|_location=mitochondrion...\n",
      " ||| |     ,|\n",
      " ||| |     |, gb|KU290730.1|_location=mitochondrion...\n",
      " ||| |     ||\n",
      " ||| |     |, gb|KU290953.1|_location=mitochondrion...\n",
      "_||| |     ||\n",
      " ||| |     || gb|KU290887.1|_location=mitochondrion...\n",
      " ||| |  ___|\n",
      " ||| | |   |    , gb|MW916062.1|_location=mitochondrion...\n",
      " ||| | |   |  __|\n",
      " ||| | |   | |  | gb|MW916064.1|_location=mitochondrion...\n",
      " ||| | |   | |\n",
      " ||| | |   | |_ gb|MW916077.1|_location=mitochondrion...\n",
      " ||| | |   |_|\n",
      " ||| | |     |  __ gb|MW916034.1|_location=mitochondrion...\n",
      " ||| | |     | |\n",
      " ||| | |     | | gb|MW916015.1|_location=mitochondrion...\n",
      " |||_| |     |_|\n",
      " ||  | |       , gb|MW916033.1|_location=mitochondrion...\n",
      " ||  | |       |\n",
      " ||  |,|       , gb|MW916035.1|_location=mitochondrion...\n",
      " ||  |||       |\n",
      " ||  |||       , gb|MW916036.1|_location=mitochondrion...\n",
      " ||  |||       |\n",
      " ||  |||       | gb|MW916037.1|_location=mitochondrion...\n",
      " ||  |||\n",
      " ||  |||  _____________ gb|MW916075.1|_location=mitochondrion...\n",
      " ||  |||_|\n",
      " ||  ||| |          __ gb|MW916065.1|_location=mitochondrion...\n",
      " ||  ||| |_________|\n",
      " ||  |||           | gb|MW916066.1|_location=mitochondrion...\n",
      " ||  |||\n",
      " ||  |||     ___ gb|KU290442.1|_location=mitochondrion...\n",
      " ||  |||    |\n",
      " ||  |||    |__ gb|KU290747.1|_location=mitochondrion...\n",
      " ||  |||   ,|\n",
      " ||  |||   ||__ gb|KU290636.1|_location=mitochondrion...\n",
      " ||  |||   ||\n",
      " ||   ||   || __ gb|KU290934.1|_location=mitochondrion...\n",
      " ||   ||___|||\n",
      " ||   |    | | gb|KU290876.1|_location=mitochondrion...\n",
      " ||   |    |\n",
      " ||   |    |  _ gb|MW916022.1|_location=mitochondrion...\n",
      " ||   |    |_|\n",
      " ||   |      | gb|MW916016.1|_location=mitochondrion...\n",
      " ||   |\n",
      " ||   | _________ gb|KU290523.1|_location=mitochondrion...\n",
      " ||   ||\n",
      " ||   || ___________ gb|KU290988.1|_location=mitochondrion...\n",
      " ||   |||\n",
      " ||   |||      _ gb|KU290678.1|_location=mitochondrion...\n",
      " ||   |||     |\n",
      " ||   |||     |, gb|KU290400.1|_location=mitochondrion...\n",
      " ||   |||     ||\n",
      " ||   |||     |, gb|KU290707.1|_location=mitochondrion...\n",
      " ||    ||     ||\n",
      " ||    ||     |, gb|KU290872.1|_location=mitochondrion...\n",
      " ||    ||    ,,|\n",
      " ||    ||    ||| gb|KU290571.1|_location=mitochondrion...\n",
      " ||    ||    |||\n",
      " ||    ||    |||, gb|KU290937.1|_location=mitochondrion...\n",
      " ||    ||    ||||\n",
      " ||    ||    |||, gb|KU290605.1|_location=mitochondrion...\n",
      " ||    ||    || |\n",
      " ||     |    || |, gb|KU291006.1|_location=mitochondrion...\n",
      " ||     |    || ,|\n",
      " ||     |    || || gb|KU290767.1|_location=mitochondrion...\n",
      " ||     |    || |\n",
      " ||     | ___|| , gb|KU290440.1|_location=mitochondrion...\n",
      " ||     ||   || |\n",
      " ||     ||   || | gb|KU290444.1|_location=mitochondrion...\n",
      " ||     ||   ||\n",
      " ||     ||   |, gb|KU290805.1|_location=mitochondrion...\n",
      " ||     ||   ||\n",
      " ||     ||   || gb|KU290784.1|_location=mitochondrion...\n",
      " ||     ||   |\n",
      " ||     ||   |  , gb|MW916050.1|_location=mitochondrion...\n",
      " ||     ||   | ,|\n",
      " ||     ||   | || gb|MW916019.1|_location=mitochondrion...\n",
      " ||      |   | |\n",
      " ||      |   |_|         ________ gb|DQ480498.1|_location=mitochondrion...\n",
      " ||      |     |  ______|\n",
      " ||      |     | |      |____ gb|MW916030.1|_location=mitochondrion...\n",
      " ||      |     | |\n",
      " ||      |     |_| gb|MW916029.1|_location=mitochondrion...\n",
      " ||      |       |\n",
      " ||      |       | gb|MW916043.1|_location=mitochondrion...\n",
      " ||      |\n",
      " ||      |___________ gb|CM023446.1|_location=mitochondrial...\n",
      " ||\n",
      " || , gb|MW916042.1|_location=mitochondrion...\n",
      " ||_|\n",
      " |  |_ gb|MW916023.1|_location=mitochondrion...\n",
      " |  |\n",
      " |  | , gb|MW916054.1|_location=mitochondrion...\n",
      " |  |_|\n",
      " |    | gb|MW916055.1|_location=mitochondrion...\n",
      " |\n",
      " , gb|KU290830.1|_location=mitochondrion...\n",
      " |\n",
      " | gb|KU290496.1|_location=mitochondrion...\n",
      " |\n",
      " |_ gb|KU290739.1|_location=mitochondrion...\n",
      "\n"
     ]
    }
   ],
   "source": [
    "phylo_tree(\"../my_coursework/aligned1.fas\")"
   ]
  },
  {
   "cell_type": "code",
   "execution_count": null,
   "metadata": {},
   "outputs": [],
   "source": []
  }
 ],
 "metadata": {
  "kernelspec": {
   "display_name": "Python(Python 3)",
   "language": "python",
   "name": "python3"
  },
  "language_info": {
   "codemirror_mode": {
    "name": "ipython",
    "version": 3
   },
   "file_extension": ".py",
   "mimetype": "text/x-python",
   "name": "python",
   "nbconvert_exporter": "python",
   "pygments_lexer": "ipython3",
   "version": "3.8.5"
  }
 },
 "nbformat": 4,
 "nbformat_minor": 4
}
